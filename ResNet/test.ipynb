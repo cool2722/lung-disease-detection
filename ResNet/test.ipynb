{
 "cells": [
  {
   "cell_type": "code",
   "execution_count": 1,
   "metadata": {},
   "outputs": [
    {
     "name": "stdout",
     "output_type": "stream",
     "text": [
      "Train Output:\n",
      " tensor([[-0.7071, -0.0350, -1.4142, -0.3822,  1.4134],\n",
      "        [ 1.4142,  1.2419,  0.7113,  1.3703, -0.7067],\n",
      "        [-0.7071, -1.2069,  0.7028, -0.9881, -0.7067]],\n",
      "       grad_fn=<NativeBatchNormBackward0>)\n",
      "\n",
      "Eval Output:\n",
      " tensor([[-0.5291,  0.1401, -0.6375, -1.0277,  0.0954],\n",
      "        [ 1.5569,  1.4727,  0.0481,  0.0033,  0.9922],\n",
      "        [-0.4479, -1.0830, -0.2659, -1.3842, -0.4460]],\n",
      "       grad_fn=<NativeBatchNormBackward0>)\n"
     ]
    }
   ],
   "source": [
    "import torch\n",
    "import torch.nn as nn\n",
    "import torch.optim as optim\n",
    "\n",
    "# Define a simple model with Dropout and BatchNorm\n",
    "class SimpleModel(nn.Module):\n",
    "    def __init__(self):\n",
    "        super(SimpleModel, self).__init__()\n",
    "        self.dropout = nn.Dropout(p=0.5)\n",
    "        self.bn = nn.BatchNorm1d(5)\n",
    "\n",
    "    def forward(self, x):\n",
    "        x = self.dropout(x)\n",
    "        x = self.bn(x)\n",
    "        return x\n",
    "\n",
    "# Create model\n",
    "model = SimpleModel()\n",
    "model.train()  # Default: Training mode\n",
    "\n",
    "# Input tensor\n",
    "x = torch.randn(3, 5)\n",
    "\n",
    "# Training mode output\n",
    "train_output = model(x)\n",
    "\n",
    "# Switch to evaluation mode\n",
    "model.eval()\n",
    "eval_output = model(x)\n",
    "\n",
    "print(\"Train Output:\\n\", train_output)\n",
    "print(\"\\nEval Output:\\n\", eval_output)\n"
   ]
  }
 ],
 "metadata": {
  "kernelspec": {
   "display_name": "Python (myenv)",
   "language": "python",
   "name": "myenv"
  },
  "language_info": {
   "codemirror_mode": {
    "name": "ipython",
    "version": 3
   },
   "file_extension": ".py",
   "mimetype": "text/x-python",
   "name": "python",
   "nbconvert_exporter": "python",
   "pygments_lexer": "ipython3",
   "version": "3.11.9"
  }
 },
 "nbformat": 4,
 "nbformat_minor": 2
}
